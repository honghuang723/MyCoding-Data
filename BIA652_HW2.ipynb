{
  "nbformat": 4,
  "nbformat_minor": 0,
  "metadata": {
    "colab": {
      "name": "Copy of BIA652_HW2.ipynb",
      "provenance": [],
      "collapsed_sections": []
    },
    "kernelspec": {
      "name": "python3",
      "display_name": "Python 3.7  ('base': conda)"
    },
    "language_info": {
      "name": "python",
      "version": "3.7",
      "mimetype": "text/x-python",
      "codemirror_mode": {
        "name": "ipython",
        "version": 3
      },
      "pygments_lexer": "ipython3",
      "nbconvert_exporter": "python",
      "file_extension": ".py"
    },
    "interpreter": {
      "hash": "dc99e0612049eb9171e9aad7f8dc04962fa7dfa02942ff09fb19aa684a3e1395"
    }
  },
  "cells": [
    {
      "cell_type": "code",
      "metadata": {
        "id": "6I-FUEg3KzUa"
      },
      "source": [
        "# import packages\n",
        "import numpy as np\n",
        "import pandas as pd\n",
        "\n",
        "from scipy.optimize import minimize\n",
        "from scipy.optimize import fsolve\n",
        "import scipy.stats as stats\n",
        "\n",
        "import statsmodels.api as sm\n",
        "import matplotlib.pyplot as plt\n",
        "from functools import partial\n",
        "\n",
        "import warnings\n",
        "warnings.filterwarnings(\"ignore\")"
      ],
      "execution_count": 22,
      "outputs": []
    },
    {
      "cell_type": "markdown",
      "metadata": {
        "id": "-Ie4NMuzKzUd"
      },
      "source": [
        "Use Python to answer the following questions. Show the code and provide complete sentences as your answers. Submit the .ipynb to Canvas. "
      ]
    },
    {
      "cell_type": "markdown",
      "metadata": {
        "id": "6cFadX9lKzUe"
      },
      "source": [
        "# Q1"
      ]
    },
    {
      "cell_type": "markdown",
      "metadata": {
        "id": "7P6C8fHmKzUe"
      },
      "source": [
        "If the weekly sales quantity of a product follows a Normal distribution with $\\mu = 100$ and $\\sigma = 10$.\n",
        "\n",
        "a) What is the probalitiy that the sales quantity is between 90 and 95 in a week?   \n",
        "b) What is the minimum quantity the manager should keep in the inventory at the start of a week so that the probability of stockout (sales greater than inventory) is less than 10%?"
      ]
    },
    {
      "cell_type": "markdown",
      "metadata": {
        "id": "CQx4Q0LoAW5f"
      },
      "source": [
        "Q1 a):"
      ]
    },
    {
      "cell_type": "code",
      "metadata": {
        "id": "xstwkRWtcH1k"
      },
      "source": [
        "from scipy.stats import expon, norm\n",
        "import math"
      ],
      "execution_count": 23,
      "outputs": []
    },
    {
      "cell_type": "code",
      "metadata": {
        "id": "iVSqZiynb6ib"
      },
      "source": [
        "X = norm(loc = 100, scale = 10)"
      ],
      "execution_count": 24,
      "outputs": []
    },
    {
      "cell_type": "code",
      "metadata": {
        "colab": {
          "base_uri": "https://localhost:8080/"
        },
        "id": "7z1Iod_ncP5x",
        "outputId": "275cdaab-a2b9-40c4-976b-1a5361391ead"
      },
      "source": [
        "X.cdf(95) - X.cdf(90)"
      ],
      "execution_count": 25,
      "outputs": [
        {
          "output_type": "execute_result",
          "data": {
            "text/plain": [
              "0.1498822847945298"
            ]
          },
          "metadata": {},
          "execution_count": 25
        }
      ]
    },
    {
      "cell_type": "code",
      "metadata": {
        "colab": {
          "base_uri": "https://localhost:8080/"
        },
        "id": "LfRJJiq3cmxA",
        "outputId": "ef633eb9-1de2-44ab-ecba-9fc940fdf871"
      },
      "source": [
        "X.ppf(0.9)"
      ],
      "execution_count": 26,
      "outputs": [
        {
          "output_type": "execute_result",
          "data": {
            "text/plain": [
              "112.815515655446"
            ]
          },
          "metadata": {},
          "execution_count": 26
        }
      ]
    },
    {
      "cell_type": "markdown",
      "metadata": {
        "id": "6HeZIrDicqnf"
      },
      "source": [
        "Wrong Answer :)"
      ]
    },
    {
      "cell_type": "code",
      "metadata": {
        "id": "X3h3PKwaAUNw",
        "colab": {
          "base_uri": "https://localhost:8080/"
        },
        "outputId": "eeb64d2d-99ca-472b-b2d9-a936a4927cb2"
      },
      "source": [
        "stats.norm.pdf(95, loc=100, scale=10)"
      ],
      "execution_count": 27,
      "outputs": [
        {
          "output_type": "execute_result",
          "data": {
            "text/plain": [
              "0.03520653267642995"
            ]
          },
          "metadata": {},
          "execution_count": 27
        }
      ]
    },
    {
      "cell_type": "code",
      "metadata": {
        "colab": {
          "base_uri": "https://localhost:8080/"
        },
        "id": "IBDDimCeDIvN",
        "outputId": "8be65823-3ab8-434a-e2d8-786ab4655dfd"
      },
      "source": [
        "stats.norm.pdf(90, loc=100, scale=10)"
      ],
      "execution_count": 28,
      "outputs": [
        {
          "output_type": "execute_result",
          "data": {
            "text/plain": [
              "0.024197072451914336"
            ]
          },
          "metadata": {},
          "execution_count": 28
        }
      ]
    },
    {
      "cell_type": "code",
      "metadata": {
        "colab": {
          "base_uri": "https://localhost:8080/"
        },
        "id": "ik6T-U_iDLWd",
        "outputId": "04c4538f-6405-4b01-8aca-4558f5e3285c"
      },
      "source": [
        "stats.norm.pdf(95, loc=100, scale=10) - stats.norm.pdf(90, loc=100, scale=10)"
      ],
      "execution_count": 29,
      "outputs": [
        {
          "output_type": "execute_result",
          "data": {
            "text/plain": [
              "0.011009460224515617"
            ]
          },
          "metadata": {},
          "execution_count": 29
        }
      ]
    },
    {
      "cell_type": "markdown",
      "metadata": {
        "id": "j3DUBAkzKzUe"
      },
      "source": [
        "# Q2\n",
        "Suppose that in Hoboken, the number of traffic accidents can be approximated by a Poisson distribution with λ = 2.5 per month. \n",
        "\n",
        "a) What is the probability of five or more than five traffic accidents in one month?   \n",
        "b) What is the median number of traffic accidents in one month?"
      ]
    },
    {
      "cell_type": "code",
      "metadata": {
        "id": "gOp9UCQchtK5"
      },
      "source": [
        "from scipy.stats import poisson "
      ],
      "execution_count": 30,
      "outputs": []
    },
    {
      "cell_type": "code",
      "metadata": {
        "colab": {
          "base_uri": "https://localhost:8080/"
        },
        "id": "MtLlIfMZdKcZ",
        "outputId": "48e1ea0d-1ad1-44b9-a0a2-0a3a91b1e3a3"
      },
      "source": [
        "1 - poisson.cdf( k=5, mu =2.5)"
      ],
      "execution_count": 31,
      "outputs": [
        {
          "output_type": "execute_result",
          "data": {
            "text/plain": [
              "0.042021038195306115"
            ]
          },
          "metadata": {},
          "execution_count": 31
        }
      ]
    },
    {
      "cell_type": "code",
      "metadata": {
        "id": "XSZbMLxcd4nk"
      },
      "source": [
        "Y = poisson (2.5)"
      ],
      "execution_count": 32,
      "outputs": []
    },
    {
      "cell_type": "code",
      "metadata": {
        "colab": {
          "base_uri": "https://localhost:8080/"
        },
        "id": "Qukwn8YieTnQ",
        "outputId": "c93e7d63-339c-49bc-8572-c97f154e33dc"
      },
      "source": [
        "Y.median()"
      ],
      "execution_count": 33,
      "outputs": [
        {
          "output_type": "execute_result",
          "data": {
            "text/plain": [
              "2.0"
            ]
          },
          "metadata": {},
          "execution_count": 33
        }
      ]
    },
    {
      "cell_type": "markdown",
      "metadata": {
        "id": "Rl4OIl0XKzUf"
      },
      "source": [
        "# Q3."
      ]
    },
    {
      "cell_type": "markdown",
      "metadata": {
        "id": "SgX29NurKzUf"
      },
      "source": [
        "Assuming that the following data (raw_data_hw) is generated by a Beta distribution, find the MLE for a and b.\n",
        "\n",
        "Hints: \n",
        "1. You need to use the [scipy.stats.beta class](https://docs.scipy.org/doc/scipy/reference/generated/scipy.stats.beta.html).  \n",
        "2. The 'true' parameters are a = 4, b = 2. You estimates shouldn't be far off. "
      ]
    },
    {
      "cell_type": "code",
      "metadata": {
        "id": "Zmy5ogHRKzUg",
        "colab": {
          "base_uri": "https://localhost:8080/",
          "height": 268
        },
        "outputId": "ec32dada-87e1-484c-b82e-e8c555eb3b0a"
      },
      "source": [
        "raw_data_hw = np.loadtxt('https://fmai-teaching.s3.amazonaws.com/bia652/est/b.txt')\n",
        "histogram = plt.hist(raw_data_hw, bins=20)"
      ],
      "execution_count": 34,
      "outputs": [
        {
          "output_type": "display_data",
          "data": {
            "image/png": "[encoded data removed]",
            "text/plain": [
              "<Figure size 432x288 with 1 Axes>"
            ]
          },
          "metadata": {
            "needs_background": "light"
          }
        }
      ]
    },
    {
      "cell_type": "code",
      "metadata": {
        "id": "tFoQAP7EekK8"
      },
      "source": [
        "# let's assume that the data is generated from a gamma distribution\n",
        "def negLL_Beta(params, raw_data):\n",
        "    \n",
        "    a, b = params[0], params[1]\n",
        "    LL = np.sum(stats.beta.logpdf(raw_data, a,b)) # scale = 1/beta, pay attention to the parameterization of gamma distribution \n",
        "    negLL = -LL\n",
        "    \n",
        "    return(negLL)"
      ],
      "execution_count": 35,
      "outputs": []
    },
    {
      "cell_type": "code",
      "metadata": {
        "colab": {
          "base_uri": "https://localhost:8080/"
        },
        "id": "sXs5moNQezWs",
        "outputId": "b5b32069-0ade-44b7-e1c7-c7b9c92e2747"
      },
      "source": [
        "result = minimize(partial(negLL_Beta, raw_data=raw_data_hw), x0 = (0, 1), method = 'Nelder-Mead', options={'disp': True})\n",
        "\n",
        "print(\"\\n\", \n",
        "      \"The parameters we get from MLE: \", \"\\n\", \n",
        "      \"MLE estimate a-hat: \", result['x'][0], \"\\n\",\n",
        "      \"MLE estimate b-hat: \", result['x'][1], \"\\n\"\n",
        "      )"
      ],
      "execution_count": 36,
      "outputs": [
        {
          "output_type": "stream",
          "name": "stdout",
          "text": [
            "Optimization terminated successfully.\n",
            "         Current function value: -365.424546\n",
            "         Iterations: 73\n",
            "         Function evaluations: 136\n",
            "\n",
            " The parameters we get from MLE:  \n",
            " MLE estimate a-hat:  4.080323146060941 \n",
            " MLE estimate b-hat:  2.093581799333127 \n",
            "\n"
          ]
        }
      ]
    }
  ]
}